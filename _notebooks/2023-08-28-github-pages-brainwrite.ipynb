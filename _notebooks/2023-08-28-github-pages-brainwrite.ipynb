{
 "cells": [
  {
   "cell_type": "markdown",
   "metadata": {},
   "source": [
    "---\n",
    "layout: post\n",
    "title: Github Pages Ideation Brainwrite\n",
    "permalink: /jupyter/notebook/github-pages-brainwrite\n",
    "comments: true\n",
    "---"
   ]
  },
  {
   "cell_type": "markdown",
   "metadata": {},
   "source": [
    "# Github Pages Ideation\n",
    "\n",
    "## Brainwrite\n",
    "\n",
    "When I thought of a blog/guide, I immediately thought of a game I enjoy: Tetris. In tetris, there are a lot of strategies that would require a guide for a lot of beginners to learn. I thought it would be very practical.\n",
    "\n",
    "## Brainwrite Submenu\n",
    "\n",
    "I started thinking about different game-elements in tetris, and that I could put them into a submenu.\n",
    "\n",
    "- Places to Play\n",
    "- Rotation Guide\n",
    "- Strategy Guide\n",
    "    - Openers\n",
    "        - TKI\n",
    "    - Side Well Stacking\n",
    "    - Center Well Stacking\n",
    "- Multiplayer Guide\n",
    "    - Cancelling\n",
    "    - Garbage\n",
    "    - Counter-Attacking\n"
   ]
  }
 ],
 "metadata": {
  "language_info": {
   "name": "python"
  }
 },
 "nbformat": 4,
 "nbformat_minor": 2
}
